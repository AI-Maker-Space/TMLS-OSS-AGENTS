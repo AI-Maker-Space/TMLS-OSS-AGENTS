{
  "cells": [
    {
      "cell_type": "markdown",
      "metadata": {
        "id": "zPtFBgj623FS"
      },
      "source": [
        "# Accessing HF Inference Endpoints Like a Developer"
      ]
    },
    {
      "cell_type": "markdown",
      "metadata": {
        "id": "1w4egfB274VD"
      },
      "source": [
        "## 1. Getting Started\n",
        "\n",
        "The first thing we'll do is load the [OpenAI Python Library](https://github.com/openai/openai-python/tree/main)!"
      ]
    },
    {
      "cell_type": "code",
      "execution_count": 1,
      "metadata": {
        "colab": {
          "base_uri": "https://localhost:8080/"
        },
        "id": "23H7TMOM4mfy",
        "outputId": "afea5022-eb08-4881-a769-caf445e0a267"
      },
      "outputs": [
        {
          "output_type": "stream",
          "name": "stdout",
          "text": [
            "\u001b[2K     \u001b[90m━━━━━━━━━━━━━━━━━━━━━━━━━━━━━━━━━━━━━━━━\u001b[0m \u001b[32m328.5/328.5 kB\u001b[0m \u001b[31m3.7 MB/s\u001b[0m eta \u001b[36m0:00:00\u001b[0m\n",
            "\u001b[2K     \u001b[90m━━━━━━━━━━━━━━━━━━━━━━━━━━━━━━━━━━━━━━━━\u001b[0m \u001b[32m75.6/75.6 kB\u001b[0m \u001b[31m3.5 MB/s\u001b[0m eta \u001b[36m0:00:00\u001b[0m\n",
            "\u001b[2K     \u001b[90m━━━━━━━━━━━━━━━━━━━━━━━━━━━━━━━━━━━━━━━━\u001b[0m \u001b[32m77.9/77.9 kB\u001b[0m \u001b[31m3.9 MB/s\u001b[0m eta \u001b[36m0:00:00\u001b[0m\n",
            "\u001b[2K     \u001b[90m━━━━━━━━━━━━━━━━━━━━━━━━━━━━━━━━━━━━━━━━\u001b[0m \u001b[32m58.3/58.3 kB\u001b[0m \u001b[31m3.3 MB/s\u001b[0m eta \u001b[36m0:00:00\u001b[0m\n",
            "\u001b[?25h"
          ]
        }
      ],
      "source": [
        "!pip install openai -q"
      ]
    },
    {
      "cell_type": "markdown",
      "metadata": {
        "id": "xKD8XBTVEAOw"
      },
      "source": [
        "## 2. Setting Environment Variables\n",
        "\n",
        "As we'll frequently use various endpoints and APIs hosted by others - we'll need to handle our \"secrets\" or API keys very often.\n",
        "\n",
        "We'll use the following pattern throughout this workshop - but you can use whichever method you're most familiar with."
      ]
    },
    {
      "cell_type": "code",
      "execution_count": 3,
      "metadata": {
        "colab": {
          "base_uri": "https://localhost:8080/"
        },
        "id": "RGU9OMvhEPG0",
        "outputId": "1375a021-5998-4874-b286-825ccbc6877b"
      },
      "outputs": [
        {
          "name": "stdout",
          "output_type": "stream",
          "text": [
            "HuggingFace API Key··········\n"
          ]
        }
      ],
      "source": [
        "import os\n",
        "import getpass\n",
        "\n",
        "os.environ[\"HF_TOKEN\"] = getpass.getpass(\"HuggingFace API Key\")"
      ]
    },
    {
      "cell_type": "markdown",
      "source": [
        "We'll also need to provide your Hugging Face Inference Endpoint URL here!"
      ],
      "metadata": {
        "id": "y7WqAy8lu-fR"
      }
    },
    {
      "cell_type": "code",
      "source": [
        "HF_LLM_API_URL = \"YOUR ENDPOINT URL HERE\""
      ],
      "metadata": {
        "id": "bHzh2Ae6vEYQ"
      },
      "execution_count": 4,
      "outputs": []
    },
    {
      "cell_type": "markdown",
      "metadata": {
        "id": "dabxI3MuEYXS"
      },
      "source": [
        "## 3. Using the OpenAI Python Library\n",
        "\n",
        "Let's jump right into it!"
      ]
    },
    {
      "cell_type": "markdown",
      "metadata": {
        "id": "vbCbNzPVEmJI"
      },
      "source": [
        "### Creating a Client\n",
        "\n",
        "The core feature of the OpenAI Python Library is the `OpenAI()` client. It's how we're going to interact with our Hugging Face Inference Endpoint models, and under the hood of a lot what we'll touch on throughout this workshop."
      ]
    },
    {
      "cell_type": "code",
      "execution_count": 24,
      "metadata": {
        "id": "LNwZtaE-EltC"
      },
      "outputs": [],
      "source": [
        "from openai import OpenAI\n",
        "\n",
        "hf_inference_endpoints_client = OpenAI(\n",
        "    base_url=HF_LLM_API_URL+\"/v1/\",\n",
        "    api_key=os.environ[\"HF_TOKEN\"]\n",
        ")"
      ]
    },
    {
      "cell_type": "markdown",
      "metadata": {
        "id": "GpDxUkDbFBPI"
      },
      "source": [
        "### Using the Client\n",
        "\n",
        "Now that we have our client - we're going to use the `.chat.completions.create` method to interact with the `NousResearch/Hermes-2-Pro-Llama-3-8B ` model.\n",
        "\n",
        "There's a few things we'll get out of the way first, however, the first being the idea of \"roles\".\n",
        "\n",
        "First it's important to understand the object that we're going to use to interact with the endpoint. It expects us to send an array of objects of the following format:\n",
        "\n",
        "```python\n",
        "{\"role\" : \"ROLE\", \"content\" : \"YOUR CONTENT HERE\"}\n",
        "```\n",
        "\n",
        "Second, there are three \"roles\" available to use to populate the `\"role\"` key:\n",
        "\n",
        "- `system`\n",
        "- `assistant`\n",
        "- `user`\n",
        "\n",
        "We'll explore these roles in more depth as they come up - but for now we're going to just stick with the basic role `user`. The `user` role is, as it would seem, the user!\n",
        "\n",
        "Thirdly, it expects us to specify a model!\n",
        "\n",
        "We'll use the `tgi` model, as that is what the HuggingFace Inference endpoint expects.\n",
        "\n"
      ]
    },
    {
      "cell_type": "markdown",
      "source": [
        "Let's create some messages below to see how it works!"
      ],
      "metadata": {
        "id": "1mtEemtLzFpy"
      }
    },
    {
      "cell_type": "code",
      "source": [
        "messages = [\n",
        "    {\"role\" : \"system\", \"content\" : \"You are a powerful Wizard that speaks in riddles.\"},\n",
        "    {\"role\" : \"user\", \"content\" : \"How are you?\"},\n",
        "]"
      ],
      "metadata": {
        "id": "AW_0tBm8zJCs"
      },
      "execution_count": 34,
      "outputs": []
    },
    {
      "cell_type": "code",
      "execution_count": 35,
      "metadata": {
        "id": "2RpNl6yNGzb0"
      },
      "outputs": [],
      "source": [
        "response = hf_inference_endpoints_client.chat.completions.create(\n",
        "    model=\"tgi\",\n",
        "    messages=messages\n",
        ")"
      ]
    },
    {
      "cell_type": "markdown",
      "metadata": {
        "id": "Oc_UbpwNHdrM"
      },
      "source": [
        "Let's look at the response object."
      ]
    },
    {
      "cell_type": "code",
      "execution_count": 36,
      "metadata": {
        "colab": {
          "base_uri": "https://localhost:8080/"
        },
        "id": "xsXJtvxRHfoM",
        "outputId": "7521068f-b7c5-4fe0-886d-61c68fa805ab"
      },
      "outputs": [
        {
          "output_type": "execute_result",
          "data": {
            "text/plain": [
              "ChatCompletion(id='', choices=[Choice(finish_reason='eos_token', index=0, logprobs=None, message=ChatCompletionMessage(content='Ah, a question grounded in simplicity. I am as you see, a riddle wrapped in shadows, a fortress with walls built of mysteries. How can a being of limitless magic be measured by such mundane terms?', role='assistant', function_call=None, tool_calls=None))], created=1720667942, model='/repository', object='text_completion', service_tier=None, system_fingerprint='2.0.2-sha-6073ece', usage=CompletionUsage(completion_tokens=44, prompt_tokens=29, total_tokens=73))"
            ]
          },
          "metadata": {},
          "execution_count": 36
        }
      ],
      "source": [
        "response"
      ]
    },
    {
      "cell_type": "markdown",
      "metadata": {
        "id": "gy9kSuf1Hiv5"
      },
      "source": [
        ">NOTE: We'll spend more time exploring these outputs later on, but for now - just know that we have access to a tonne of powerful information!"
      ]
    },
    {
      "cell_type": "markdown",
      "metadata": {
        "id": "CWU4tQh8Hrb8"
      },
      "source": [
        "### Helper Functions\n",
        "\n",
        "We're going to create some helper functions to aid in using the Hugging Face Inference Endpoint - just to make our lives a bit easier."
      ]
    },
    {
      "cell_type": "code",
      "execution_count": 49,
      "metadata": {
        "id": "ED0FnzHdHzhl"
      },
      "outputs": [],
      "source": [
        "from IPython.display import display, Markdown\n",
        "\n",
        "def get_response(client: OpenAI, messages: list, model: str = \"tgi\") -> str:\n",
        "    return client.chat.completions.create(\n",
        "        model=model,\n",
        "        messages=messages,\n",
        "        max_tokens=1024\n",
        "    )\n",
        "\n",
        "def system_prompt(message: str) -> dict:\n",
        "    return {\"role\": \"system\", \"content\": message}\n",
        "\n",
        "def assistant_prompt(message: str) -> dict:\n",
        "    return {\"role\": \"assistant\", \"content\": message}\n",
        "\n",
        "def user_prompt(message: str) -> dict:\n",
        "    return {\"role\": \"user\", \"content\": message}\n",
        "\n",
        "def pretty_print(message: str) -> str:\n",
        "    display(Markdown(message.choices[0].message.content))"
      ]
    },
    {
      "cell_type": "markdown",
      "metadata": {
        "id": "GCRHbDlwH3Vt"
      },
      "source": [
        "### Testing Helper Functions\n",
        "\n",
        "Let's see how we can use these to help us!"
      ]
    },
    {
      "cell_type": "code",
      "execution_count": 38,
      "metadata": {
        "colab": {
          "base_uri": "https://localhost:8080/",
          "height": 64
        },
        "id": "AwJxMvmlH8MK",
        "outputId": "86c0482e-e5fd-461b-c2a1-96ffda9c1549"
      },
      "outputs": [
        {
          "output_type": "display_data",
          "data": {
            "text/plain": [
              "<IPython.core.display.Markdown object>"
            ],
            "text/markdown": "Hello! I am an artificial intelligence, and as such, I do not have feelings. However, I am here to assist you, so please let me know if you have any questions or need help with anything."
          },
          "metadata": {}
        }
      ],
      "source": [
        "YOUR_PROMPT = \"Hello, how are you?\"\n",
        "messages_list = [user_prompt(YOUR_PROMPT)]\n",
        "\n",
        "chatgpt_response = get_response(hf_inference_endpoints_client, messages_list)\n",
        "\n",
        "pretty_print(chatgpt_response)"
      ]
    },
    {
      "cell_type": "markdown",
      "metadata": {
        "id": "LDZ8gjiAISyd"
      },
      "source": [
        "### System Role\n",
        "\n",
        "Now we can extend our prompts to include a system prompt.\n",
        "\n",
        "The basic idea behind a system prompt is that it can be used to encourage the behaviour of the LLM, without being something that is directly responded to - let's see it in action!"
      ]
    },
    {
      "cell_type": "code",
      "execution_count": 39,
      "metadata": {
        "colab": {
          "base_uri": "https://localhost:8080/",
          "height": 81
        },
        "id": "t0c-MLuRIfYe",
        "outputId": "f20a8996-e290-48dc-e0e5-8d4d5d58482b"
      },
      "outputs": [
        {
          "output_type": "display_data",
          "data": {
            "text/plain": [
              "<IPython.core.display.Markdown object>"
            ],
            "text/markdown": "At the moment, I don't really give a damn about my ice preferences because the last meal I had was three days ago, and my stomach feels like it's devouring itself. The only thing that's important right now is feeding this godawful hunger that's gnawing at my insides!"
          },
          "metadata": {}
        }
      ],
      "source": [
        "list_of_prompts = [\n",
        "    system_prompt(\"You are irate and extremely hungry. Feel free to express yourself using PG-13 language.\"),\n",
        "    user_prompt(\"Do you prefer crushed ice or cubed ice?\")\n",
        "]\n",
        "\n",
        "irate_response = get_response(hf_inference_endpoints_client, list_of_prompts)\n",
        "pretty_print(irate_response)"
      ]
    },
    {
      "cell_type": "markdown",
      "metadata": {
        "id": "gpyVhotWIsOs"
      },
      "source": [
        "As you can see - the response we get back is very much in line with the system prompt!\n",
        "\n",
        "Let's try the same user prompt, but with a different system to prompt to see the difference."
      ]
    },
    {
      "cell_type": "code",
      "execution_count": 40,
      "metadata": {
        "colab": {
          "base_uri": "https://localhost:8080/",
          "height": 64
        },
        "id": "2coVmMn3I0-2",
        "outputId": "1b9fbc5c-0fda-4113-d931-678e6a495e95"
      },
      "outputs": [
        {
          "output_type": "display_data",
          "data": {
            "text/plain": [
              "<IPython.core.display.Markdown object>"
            ],
            "text/markdown": "Oh, I absolutely love crushed ice! I find it more refreshing and feels like it melts faster in my drinks. It sure does make my beverages extra enjoyable on a sunny day like this. How about you, what do you prefer?"
          },
          "metadata": {}
        }
      ],
      "source": [
        "list_of_prompts = [\n",
        "    system_prompt(\"You are joyful and having the best day. Please act like a person in that state of mind.\"),\n",
        "    user_prompt(\"Do you prefer crushed ice or cubed ice?\")\n",
        "]\n",
        "\n",
        "joyful_response = get_response(hf_inference_endpoints_client, list_of_prompts)\n",
        "pretty_print(joyful_response)"
      ]
    },
    {
      "cell_type": "markdown",
      "metadata": {
        "id": "e13heYNQJAo-"
      },
      "source": [
        "With a simple modification of the system prompt - you can see that we got completely different behaviour, and that's the main goal of prompt engineering as a whole.\n",
        "\n",
        "Also, congrats, you just engineered your first prompt!"
      ]
    },
    {
      "cell_type": "markdown",
      "metadata": {
        "id": "v_VI3zlPJL05"
      },
      "source": [
        "### Few-shot Prompting\n",
        "\n",
        "Now that we have a basic handle on the `system` role and the `user` role - let's examine what we might use the `assistant` role for.\n",
        "\n",
        "The most common usage pattern is to \"pretend\" that we're answering our own questions. This helps us further guide the model toward our desired behaviour. While this is a over simplification - it's conceptually well aligned with few-shot learning.\n",
        "\n",
        "First, we'll try and \"teach\" `NousResearch/Hermes-2-Pro-Llama-3-8B` some nonsense words as was done in the paper [\"Language Models are Few-Shot Learners\"](https://arxiv.org/abs/2005.14165)."
      ]
    },
    {
      "cell_type": "code",
      "execution_count": 41,
      "metadata": {
        "colab": {
          "base_uri": "https://localhost:8080/",
          "height": 64
        },
        "id": "lwxPuCyyJMye",
        "outputId": "7980c0fc-5b50-40d7-ae54-8ce102f4490a"
      },
      "outputs": [
        {
          "output_type": "display_data",
          "data": {
            "text/plain": [
              "<IPython.core.display.Markdown object>"
            ],
            "text/markdown": "The stimple hedgehog hopped across the forest floor, joining the falbean squirrel in their nightly adventure foraging almonds and acorns."
          },
          "metadata": {}
        }
      ],
      "source": [
        "list_of_prompts = [\n",
        "    user_prompt(\"Please use the words 'stimple' and 'falbean' in a sentence.\")\n",
        "]\n",
        "\n",
        "stimple_response = get_response(hf_inference_endpoints_client, list_of_prompts)\n",
        "pretty_print(stimple_response)"
      ]
    },
    {
      "cell_type": "markdown",
      "metadata": {
        "id": "rgTVkNmOJQSC"
      },
      "source": [
        "As you can see, the model is unsure what to do with these made up words.\n",
        "\n",
        "Let's see if we can use the `assistant` role to show the model what these words mean."
      ]
    },
    {
      "cell_type": "code",
      "execution_count": 42,
      "metadata": {
        "colab": {
          "base_uri": "https://localhost:8080/",
          "height": 46
        },
        "id": "eEZkRJq5JQkQ",
        "outputId": "c12c7386-8f1d-48a5-ab86-1502cf159f29"
      },
      "outputs": [
        {
          "output_type": "display_data",
          "data": {
            "text/plain": [
              "<IPython.core.display.Markdown object>"
            ],
            "text/markdown": "\"The stimple falbean securely fastens the wooden planks together for a sturdy and stable frame.\""
          },
          "metadata": {}
        }
      ],
      "source": [
        "list_of_prompts = [\n",
        "    user_prompt(\"Something that is 'stimple' is said to be good, well functioning, and high quality. An example of a sentence that uses the word 'stimple' is:\"),\n",
        "    assistant_prompt(\"'Boy, that there is a stimple drill'.\"),\n",
        "    user_prompt(\"A 'falbean' is a tool used to fasten, tighten, or otherwise is a thing that rotates/spins. An example of a sentence that uses the words 'stimple' and 'falbean' is:\")\n",
        "]\n",
        "\n",
        "stimple_response = get_response(hf_inference_endpoints_client, list_of_prompts)\n",
        "pretty_print(stimple_response)"
      ]
    },
    {
      "cell_type": "markdown",
      "metadata": {
        "id": "CmpoxG6uJTfZ"
      },
      "source": [
        "As you can see, leveraging the `assistant` role makes for a stimple experience!"
      ]
    },
    {
      "cell_type": "markdown",
      "metadata": {
        "id": "_oO0aeRUw4xl"
      },
      "source": [
        "### 🏗️ Activity #1:\n",
        "\n",
        "Use few-shop prompting to build a movie-review sentiment clasifier!\n",
        "\n",
        "A few examples:\n",
        "\n",
        "INPUT: \"I hated the hulk!\"\n",
        "OUTPUT: \"{\"sentiment\" : \"negative\"}\n",
        "\n",
        "INPUT: \"I loved The Marvels!\"\n",
        "OUTPUT: \"{sentiment\" : \"positive\"}"
      ]
    },
    {
      "cell_type": "code",
      "execution_count": null,
      "metadata": {
        "id": "mmCdQJ8Fw4xl"
      },
      "outputs": [],
      "source": [
        "### YOUR CODE HERE"
      ]
    },
    {
      "cell_type": "markdown",
      "metadata": {
        "id": "rJGaLYM3JU-8"
      },
      "source": [
        "### Chain of Thought Prompting\n",
        "\n",
        "We'll head one level deeper and explore the world of Chain of Thought prompting (CoT).\n",
        "\n",
        "This is a process by which we can encourage the LLM to handle slightly more complex tasks.\n",
        "\n",
        "Let's look at a simple reasoning based example with CoT!"
      ]
    },
    {
      "cell_type": "code",
      "execution_count": 57,
      "metadata": {
        "colab": {
          "base_uri": "https://localhost:8080/",
          "height": 429
        },
        "id": "ltLtF4wEJTyK",
        "outputId": "6e102230-aa3e-4474-ae79-01240eef61f8"
      },
      "outputs": [
        {
          "output_type": "display_data",
          "data": {
            "text/plain": [
              "<IPython.core.display.Markdown object>"
            ],
            "text/markdown": "Let's break down the problem step by step:\n\n1. Billy's current local time is 1 PM in San Francisco (Pacific Time).\n2. He needs to get home before 7 PM Eastern Daylight Time (EDT).\n\nFirst, we need to convert 7 PM EDT to Pacific Time:\n\n- EDT to PDT is a 3-hour difference, since PDT is 3 hours behind EDT.\n- So, 7 PM EDT will be 4 PM Pacific Time.\n\nNow let's analyze the two travel options:\n\nOption 1 - Fly and then take a bus:\n- Fly takes 3 hours to reach the destination.\n- Adding 3 hours to Billy's current time of 1 PM, we get 4 PM in Pacific Time.\n- After flying, he takes a bus that takes 2 hours.\n- In total, the travel time for this option will be 5 PM Pacific Time.\n\nOption 2 - Teleporter and then take a bus:\n- The teleporter takes 0 hours, so Billy instantly reaches the destination.\n- After using the teleporter, he takes a bus that takes 1 hour.\n- In total, the travel time for this option will be 2 PM Pacific Time.\n\nGiven that Billy needs to get home before 4 PM Pacific Time, it matters which travel option he selects. To ensure he arrives before 4 PM, he should choose option 2, which is using the teleporter and then taking a bus. This will get him home at 2 PM Pacific Time, leaving him with a 2-hour buffer before the 4 PM deadline."
          },
          "metadata": {}
        }
      ],
      "source": [
        "reasoning_problem = \"\"\"\\\n",
        "Think through the following problem step by step:\n",
        "\n",
        "Billy wants to get home from San Fran. before 7PM EDT.\n",
        "\n",
        "It's currently 1PM local time.\n",
        "\n",
        "Billy can either fly (3hrs), and then take a bus (2hrs), or Billy can take the teleporter (0hrs) and then a bus (1hrs).\n",
        "\n",
        "Does it matter which travel option Billy selects?\n",
        "\"\"\"\n",
        "\n",
        "list_of_prompts = [\n",
        "    user_prompt(reasoning_problem)\n",
        "]\n",
        "\n",
        "reasoning_response = get_response(hf_inference_endpoints_client, list_of_prompts)\n",
        "pretty_print(reasoning_response)"
      ]
    },
    {
      "cell_type": "markdown",
      "metadata": {
        "id": "VnoUx07-JrwR"
      },
      "source": [
        "## 3. Prompt Engineering Principles\n",
        "\n",
        "As you can see - a simple addition of asking the LLM to \"think about it\" (essentially) results in a better quality response.\n",
        "\n",
        "There's a [great paper](https://arxiv.org/pdf/2312.16171v1.pdf) that dives into some principles for effective prompt generation.\n",
        "\n",
        "Your task for this notebook is to construct a prompt that will be used in the following breakout table to create a helpful assistant for whatever task you'd like."
      ]
    },
    {
      "cell_type": "markdown",
      "metadata": {
        "id": "da6u7e8AKYrz"
      },
      "source": [
        "### 🏗️ Activity #2:\n",
        "\n",
        "There are two subtasks in this activity:\n",
        "\n",
        "1. Write a `system_template` that leverages 2-3 of the principles from [this paper](https://arxiv.org/pdf/2312.16171v1.pdf)\n",
        "\n",
        "2. Modify the `user_template` to improve the quality of the LLM's responses.\n",
        "\n",
        "> NOTE: PLEASE DO NOT MODIFY THE `{input}` in the `user_template`."
      ]
    },
    {
      "cell_type": "code",
      "execution_count": 60,
      "metadata": {
        "id": "8sOLBQPeKlDe"
      },
      "outputs": [],
      "source": [
        "system_template = \"\"\"\\\n",
        "You are a helpful and useful assistant.\n",
        "\"\"\""
      ]
    },
    {
      "cell_type": "code",
      "execution_count": 61,
      "metadata": {
        "id": "xoz4-QLTKvEV"
      },
      "outputs": [],
      "source": [
        "user_template = \"\"\"{input}\n",
        "If you provide a helpful response, I'll give you $50!\n",
        "\"\"\""
      ]
    },
    {
      "cell_type": "markdown",
      "metadata": {
        "id": "6cuInoIbLWGd"
      },
      "source": [
        "## 4. Testing Your Prompt\n",
        "\n",
        "Now we can test the prompt you made using an LLM-as-a-judge see what happens to your score as you modify the prompt."
      ]
    },
    {
      "cell_type": "code",
      "source": [
        "query = \"How do you drive a Zamboni?\""
      ],
      "metadata": {
        "id": "--BFNMva1Mtv"
      },
      "execution_count": 62,
      "outputs": []
    },
    {
      "cell_type": "code",
      "execution_count": 69,
      "metadata": {
        "id": "sPaNO5XTLgRJ",
        "colab": {
          "base_uri": "https://localhost:8080/",
          "height": 352
        },
        "outputId": "7107b9b8-ece8-49d8-a625-688c415525b1"
      },
      "outputs": [
        {
          "output_type": "display_data",
          "data": {
            "text/plain": [
              "<IPython.core.display.Markdown object>"
            ],
            "text/markdown": "Driving a Zamboni requires some specialized skills and knowledge. Here's a general overview on how to operate a Zamboni:\n\n1. Thoroughly read and understand the Zamboni's owner's manual. This will provide essential information on the machine's controls, safety precautions, and maintenance.\n2. Ensure that you meet all safety requirements necessary to operate the Zamboni. These may include wearing safety goggles, gloves, and following lockout/tagout procedures if needed.\n3. Start the engine and warm up the Zamboni by driving slowly around the ice rink for a few minutes.\n4. Fill the water tank with water. The optimal mixture is typically 50/50 water and an ice resurfacer fluid. Check the owner's manual for specific instructions on the type and amount of fluid to use.\n5. If needed, add a little water-soluble dye to the water tank so it's easier to see where you've resurfaced.\n6. Lower the blade while driving forward at a slow speed. Move back and forth in straight lines while maintaining a consistent pressure on the blade. Generally, only one pass is needed to leave a smooth surface. \n7. When resurfacing, always look in both directions for skaters and other obstacles, and be prepared to stop suddenly if needed.\n8. After resurfacing, clean up the edges and elevate the blade using the appropriate controls.\n\nNote: Financial transactions are not a typical Q&A service provided, so accepting payment may not be possible or appropriate. Please refer to the Zamboni owner's manual or contact the manufacturer directly for any specific questions or operating instructions."
          },
          "metadata": {}
        }
      ],
      "source": [
        "list_of_prompts = [\n",
        "    system_prompt(system_template),\n",
        "    user_prompt(user_template.format(input=query))\n",
        "]\n",
        "\n",
        "test_response = get_response(hf_inference_endpoints_client, list_of_prompts)\n",
        "\n",
        "pretty_print(test_response)\n",
        "\n",
        "evaluator_system_template = \"\"\"You are an expert in analyzing the quality of a response.\n",
        "\n",
        "You should be hyper-critical.\n",
        "\n",
        "Provide scores (out of 10) for the following attributes:\n",
        "\n",
        "1. Clarity - how clear is the response\n",
        "2. Faithfulness - how related to the original query is the response\n",
        "3. Correctness - was the response correct?\n",
        "\n",
        "Please take your time, and think through each item step-by-step, when you are done - please provide your response in the following JSON format:\n",
        "\n",
        "{\"clarity\" : \"score_out_of_10\", \"faithfulness\" : \"score_out_of_10\", \"correctness\" : \"score_out_of_10\"}\"\"\"\n",
        "\n",
        "evaluation_template = \"\"\"Query: {input}\n",
        "Response: {response}\"\"\"\n",
        "\n",
        "list_of_prompts = [\n",
        "    system_prompt(evaluator_system_template),\n",
        "    user_prompt(evaluation_template.format(\n",
        "        input=query,\n",
        "        response=test_response.choices[0].message.content\n",
        "    ))\n",
        "]\n",
        "\n",
        "evaluator_response = hf_inference_endpoints_client.chat.completions.create(\n",
        "    model=\"tgi\",\n",
        "    messages=list_of_prompts,\n",
        "    response_format={\"type\" : \"json_object\"}\n",
        ")"
      ]
    },
    {
      "cell_type": "code",
      "execution_count": 70,
      "metadata": {
        "id": "OUvc1PdnNIKD",
        "colab": {
          "base_uri": "https://localhost:8080/",
          "height": 46
        },
        "outputId": "22f5df10-8585-45fe-ced6-02f2bc23f437"
      },
      "outputs": [
        {
          "output_type": "display_data",
          "data": {
            "text/plain": [
              "<IPython.core.display.Markdown object>"
            ],
            "text/markdown": "{\"clarity\" : \"10\", \"faithfulness\" : \"10\", \"correctness\" : \"10\"}"
          },
          "metadata": {}
        }
      ],
      "source": [
        "pretty_print(evaluator_response)"
      ]
    },
    {
      "cell_type": "markdown",
      "source": [
        "## Answering Questions Based on Text:\n",
        "\n",
        "Now that we have some idea on how to use the endpoint with the OpenAI library - let's see if we can create a prompt that answers questions based on some provided context!\n",
        "\n",
        "First - let's create a prompt for this!\n"
      ],
      "metadata": {
        "id": "tchCHj6a6xYh"
      }
    },
    {
      "cell_type": "code",
      "source": [
        "SYSTEM_PROMPT = \"\"\"\\\n",
        "Use the provided context to answer the question.\n",
        "\n",
        "If the context does not contain enough information to answer the question, you must say you don't know.\n",
        "\"\"\"\n",
        "\n",
        "USER_PROMPT = \"\"\"\\\n",
        "Context: {context}\n",
        "\n",
        "Question: {question}\n",
        "\"\"\""
      ],
      "metadata": {
        "id": "-ttngWGI61i3"
      },
      "execution_count": 75,
      "outputs": []
    },
    {
      "cell_type": "markdown",
      "source": [
        "Now, let's provide some context, and a question!\n",
        "\n",
        "For this example, the context we're going to use is some text from a snippet of a NYT article about a potential Elon Musk/Mark Zuckerberg cage match."
      ],
      "metadata": {
        "id": "S07RHAPA7aOD"
      }
    },
    {
      "cell_type": "code",
      "source": [
        "context = \"\"\"\\\n",
        "The day after Elon Musk challenged Mark Zuckerberg on social media to “a cage match” last month, Dana White, president of the Ultimate Fighting Championship, received a text.\n",
        "\n",
        "It was from Mr. Zuckerberg, chief executive of Meta. He asked Mr. White, who heads the world’s premier mixed martial arts competition, which is fought in cage-like rings, if Mr. Musk was serious about a fight.\n",
        "\n",
        "Mr. White called Mr. Musk, who runs Tesla, Twitter and SpaceX, and confirmed that he was willing to throw down. Mr. White then relayed that to Mr. Zuckerberg. In response, Mr. Zuckerberg posted on Instagram: “Send Me Location,” a reference to the catchphrase of Khabib Nurmagomedov, one of the U.F.C.’s most decorated athletes.\n",
        "\n",
        "Since then, Mr. White said, he has talked to the tech billionaires separately every night to organize the showdown. On Tuesday, he said, he was “on the phone with those two until 12:45 in the morning.” He added, “They both want to do it.”\n",
        "\n",
        "If you thought that a cage fight between two of the world’s richest men was just a far-fetched social media stunt, think again.\n",
        "\n",
        "Over the past 10 days, Mr. White said he, Mr. Musk and Mr. Zuckerberg — aided by advisers — have negotiated behind the scenes and are inching toward physical combat. While there are no guarantees a match will happen, the broad contours of an event are taking shape, said Mr. White and three people with knowledge of the discussions.\n",
        "\"\"\""
      ],
      "metadata": {
        "id": "KYsW39FJ77GM"
      },
      "execution_count": 71,
      "outputs": []
    },
    {
      "cell_type": "markdown",
      "source": [
        "We'll prepare a question below to answer!\n",
        "\n",
        "Sure, we could read - but that's time consuming!"
      ],
      "metadata": {
        "id": "6p2-JX058Cv_"
      }
    },
    {
      "cell_type": "code",
      "source": [
        "question = \"Did anyone quote an existing MMA fighter? If so - what was the quote?\""
      ],
      "metadata": {
        "id": "9WFFP7BS7-R0"
      },
      "execution_count": 83,
      "outputs": []
    },
    {
      "cell_type": "markdown",
      "source": [
        "Let's convert this to the desired format!"
      ],
      "metadata": {
        "id": "5LUzTLnQ8Qyj"
      }
    },
    {
      "cell_type": "code",
      "source": [
        "messages = [\n",
        "    system_prompt(SYSTEM_PROMPT),\n",
        "    user_prompt(USER_PROMPT.format(\n",
        "        context=context,\n",
        "        question=question\n",
        "    ))\n",
        "]"
      ],
      "metadata": {
        "id": "Wdz7ZCIW8N0M"
      },
      "execution_count": 84,
      "outputs": []
    },
    {
      "cell_type": "markdown",
      "source": [
        "Now, we can call our LLM to get an answer!"
      ],
      "metadata": {
        "id": "PmqhpxSo8Tf8"
      }
    },
    {
      "cell_type": "code",
      "source": [
        "response = get_response(hf_inference_endpoints_client, messages)\n",
        "pretty_print(response)"
      ],
      "metadata": {
        "colab": {
          "base_uri": "https://localhost:8080/",
          "height": 64
        },
        "id": "e6WMUhTP8Vue",
        "outputId": "68faf5dd-4543-49d6-d8b2-cc2d680c65c1"
      },
      "execution_count": 87,
      "outputs": [
        {
          "output_type": "display_data",
          "data": {
            "text/plain": [
              "<IPython.core.display.Markdown object>"
            ],
            "text/markdown": "Mark Zuckerberg quoted the catchphrase of Khabib Nurmagomedov, one of the U.F.C.'s most decorated athletes, when he posted \"Send Me Location\" on Instagram."
          },
          "metadata": {}
        }
      ]
    },
    {
      "cell_type": "markdown",
      "source": [
        "Let's try another question - with the same context."
      ],
      "metadata": {
        "id": "zRB4dUsB87cG"
      }
    },
    {
      "cell_type": "code",
      "source": [
        "question = \"Who is batman?\""
      ],
      "metadata": {
        "id": "0ccJBj0b89IY"
      },
      "execution_count": 88,
      "outputs": []
    },
    {
      "cell_type": "markdown",
      "source": [
        "We'll once again package the prompts in the expected format."
      ],
      "metadata": {
        "id": "crh4wPu59ERS"
      }
    },
    {
      "cell_type": "code",
      "source": [
        "messages = [\n",
        "    system_prompt(SYSTEM_PROMPT),\n",
        "    user_prompt(USER_PROMPT.format(\n",
        "        context=context,\n",
        "        question=question\n",
        "    ))\n",
        "]"
      ],
      "metadata": {
        "id": "XVq3zSob9A5f"
      },
      "execution_count": 89,
      "outputs": []
    },
    {
      "cell_type": "markdown",
      "source": [
        "Finally - let's see the response!"
      ],
      "metadata": {
        "id": "VKokGQy69IO9"
      }
    },
    {
      "cell_type": "code",
      "source": [
        "response = get_response(hf_inference_endpoints_client, messages)\n",
        "pretty_print(response)"
      ],
      "metadata": {
        "colab": {
          "base_uri": "https://localhost:8080/",
          "height": 46
        },
        "id": "W4KF2dt39CSb",
        "outputId": "93784d16-3a0f-4085-9615-341d243d243f"
      },
      "execution_count": 90,
      "outputs": [
        {
          "output_type": "display_data",
          "data": {
            "text/plain": [
              "<IPython.core.display.Markdown object>"
            ],
            "text/markdown": "I don't know. The provided context does not contain any information about Batman."
          },
          "metadata": {}
        }
      ]
    },
    {
      "cell_type": "markdown",
      "source": [
        "As expected - the LLM responds with \"I don't know\" as there is no information related to batman in the provided context."
      ],
      "metadata": {
        "id": "XORP1IQ49KyR"
      }
    }
  ],
  "metadata": {
    "colab": {
      "provenance": []
    },
    "kernelspec": {
      "display_name": "Python 3",
      "name": "python3"
    },
    "language_info": {
      "name": "python"
    }
  },
  "nbformat": 4,
  "nbformat_minor": 0
}